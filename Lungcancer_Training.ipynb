{
 "cells": [
  {
   "cell_type": "code",
   "execution_count": 1,
   "metadata": {},
   "outputs": [],
   "source": [
    "import numpy as np\n",
    "import tensorflow as tf\n",
    "from tensorflow import keras\n",
    "from tensorflow.keras import layers"
   ]
  },
  {
   "cell_type": "code",
   "execution_count": 2,
   "metadata": {},
   "outputs": [],
   "source": [
    "from tensorflow.keras.models import Sequential\n",
    "from  tensorflow.keras.layers import Conv2D\n",
    "from  tensorflow.keras.layers import MaxPooling2D\n",
    "from  tensorflow.keras.layers import Flatten\n",
    "from  tensorflow.keras.layers import Dense"
   ]
  },
  {
   "cell_type": "code",
   "execution_count": 3,
   "metadata": {},
   "outputs": [],
   "source": [
    "lung=Sequential()"
   ]
  },
  {
   "cell_type": "code",
   "execution_count": 4,
   "metadata": {},
   "outputs": [],
   "source": [
    "lung.add(Conv2D(32, (3, 3), input_shape = (64, 64, 1), activation = 'relu'))"
   ]
  },
  {
   "cell_type": "code",
   "execution_count": 5,
   "metadata": {},
   "outputs": [],
   "source": [
    "lung.add(MaxPooling2D(pool_size = (2, 2)))"
   ]
  },
  {
   "cell_type": "code",
   "execution_count": 6,
   "metadata": {},
   "outputs": [],
   "source": [
    "lung.add(Flatten())"
   ]
  },
  {
   "cell_type": "code",
   "execution_count": 7,
   "metadata": {},
   "outputs": [],
   "source": [
    "lung.add(Dense(units = 128,activation = \"relu\")) "
   ]
  },
  {
   "cell_type": "code",
   "execution_count": 8,
   "metadata": {},
   "outputs": [],
   "source": [
    "lung.add(Dense(units = 1,activation = \"sigmoid\")) "
   ]
  },
  {
   "cell_type": "code",
   "execution_count": 9,
   "metadata": {},
   "outputs": [],
   "source": [
    "lung.compile(optimizer = 'adam', loss = 'binary_crossentropy', metrics = ['accuracy'])"
   ]
  },
  {
   "cell_type": "code",
   "execution_count": 11,
   "metadata": {},
   "outputs": [],
   "source": [
    "from tensorflow.keras.preprocessing.image import ImageDataGenerator\n",
    "train_datagen = ImageDataGenerator(rescale = 1./255,shear_range = 0.2,zoom_range = 0.2,horizontal_flip = True)\n",
    "test_datagen = ImageDataGenerator(rescale = 1./255)"
   ]
  },
  {
   "cell_type": "code",
   "execution_count": 13,
   "metadata": {},
   "outputs": [
    {
     "name": "stdout",
     "output_type": "stream",
     "text": [
      "Found 102 images belonging to 2 classes.\n",
      "Found 40 images belonging to 2 classes.\n"
     ]
    }
   ],
   "source": [
    "x_train = train_datagen.flow_from_directory(\n",
    "    r\"D:\\Manipal-Externship Codefiles\\Project docs\\Lung Cancer Disease Prediction\\Lungcancer\\trainset\"\n",
    "    ,target_size = (64,64),batch_size = 32 ,\n",
    "    class_mode = 'binary',color_mode=\"grayscale\")\n",
    "x_test = test_datagen.flow_from_directory(\n",
    "    r\"D:\\Manipal-Externship Codefiles\\Project docs\\Lung Cancer Disease Prediction\\Lungcancer\\testset\",\n",
    "    target_size = (64,64),batch_size = 32 , \n",
    "    class_mode = 'binary',color_mode=\"grayscale\")"
   ]
  },
  {
   "cell_type": "code",
   "execution_count": 14,
   "metadata": {},
   "outputs": [
    {
     "name": "stderr",
     "output_type": "stream",
     "text": [
      "C:\\Users\\Edwin Kenny Pandiri\\Anaconda3\\lib\\site-packages\\tensorflow\\python\\keras\\engine\\training.py:1940: UserWarning: `Model.fit_generator` is deprecated and will be removed in a future version. Please use `Model.fit`, which supports generators.\n",
      "  warnings.warn('`Model.fit_generator` is deprecated and '\n"
     ]
    },
    {
     "name": "stdout",
     "output_type": "stream",
     "text": [
      "Epoch 1/100\n",
      "4/4 [==============================] - 4s 683ms/step - loss: 0.9078 - accuracy: 0.5294 - val_loss: 0.7001 - val_accuracy: 0.6000\n",
      "Epoch 2/100\n",
      "4/4 [==============================] - 1s 306ms/step - loss: 0.5867 - accuracy: 0.6667 - val_loss: 0.6368 - val_accuracy: 0.5750\n",
      "Epoch 3/100\n",
      "4/4 [==============================] - 1s 255ms/step - loss: 0.6279 - accuracy: 0.6373 - val_loss: 0.5022 - val_accuracy: 0.7250\n",
      "Epoch 4/100\n",
      "4/4 [==============================] - 1s 277ms/step - loss: 0.5963 - accuracy: 0.7059 - val_loss: 0.6131 - val_accuracy: 0.7500\n",
      "Epoch 5/100\n",
      "4/4 [==============================] - 1s 243ms/step - loss: 0.7793 - accuracy: 0.5490 - val_loss: 0.6152 - val_accuracy: 0.6250\n",
      "Epoch 6/100\n",
      "4/4 [==============================] - 1s 250ms/step - loss: 0.6261 - accuracy: 0.6275 - val_loss: 0.4745 - val_accuracy: 0.8500\n",
      "Epoch 7/100\n",
      "4/4 [==============================] - 1s 243ms/step - loss: 0.5116 - accuracy: 0.7941 - val_loss: 0.5276 - val_accuracy: 0.7500\n",
      "Epoch 8/100\n",
      "4/4 [==============================] - 1s 307ms/step - loss: 0.5084 - accuracy: 0.7647 - val_loss: 0.3934 - val_accuracy: 0.8750\n",
      "Epoch 9/100\n",
      "4/4 [==============================] - 1s 254ms/step - loss: 0.4745 - accuracy: 0.7255 - val_loss: 0.4228 - val_accuracy: 0.8750\n",
      "Epoch 10/100\n",
      "4/4 [==============================] - 1s 262ms/step - loss: 0.4267 - accuracy: 0.8333 - val_loss: 0.5467 - val_accuracy: 0.7750\n",
      "Epoch 11/100\n",
      "4/4 [==============================] - 1s 266ms/step - loss: 0.4079 - accuracy: 0.8137 - val_loss: 0.3981 - val_accuracy: 0.8750\n",
      "Epoch 12/100\n",
      "4/4 [==============================] - 1s 369ms/step - loss: 0.3787 - accuracy: 0.8235 - val_loss: 0.4280 - val_accuracy: 0.8500\n",
      "Epoch 13/100\n",
      "4/4 [==============================] - 1s 237ms/step - loss: 0.3816 - accuracy: 0.8039 - val_loss: 0.4592 - val_accuracy: 0.8250\n",
      "Epoch 14/100\n",
      "4/4 [==============================] - 1s 244ms/step - loss: 0.3395 - accuracy: 0.8725 - val_loss: 0.3678 - val_accuracy: 0.8500\n",
      "Epoch 15/100\n",
      "4/4 [==============================] - 1s 252ms/step - loss: 0.3093 - accuracy: 0.8431 - val_loss: 0.4005 - val_accuracy: 0.8500\n",
      "Epoch 16/100\n",
      "4/4 [==============================] - 1s 306ms/step - loss: 0.2934 - accuracy: 0.8922 - val_loss: 0.3125 - val_accuracy: 0.9000\n",
      "Epoch 17/100\n",
      "4/4 [==============================] - 1s 315ms/step - loss: 0.2466 - accuracy: 0.9412 - val_loss: 0.2962 - val_accuracy: 0.8750\n",
      "Epoch 18/100\n",
      "4/4 [==============================] - 1s 262ms/step - loss: 0.3298 - accuracy: 0.8333 - val_loss: 0.2732 - val_accuracy: 0.8750\n",
      "Epoch 19/100\n",
      "4/4 [==============================] - 1s 295ms/step - loss: 0.4171 - accuracy: 0.8039 - val_loss: 0.2973 - val_accuracy: 0.8750\n",
      "Epoch 20/100\n",
      "4/4 [==============================] - 1s 266ms/step - loss: 0.3309 - accuracy: 0.8725 - val_loss: 0.2433 - val_accuracy: 0.8750\n",
      "Epoch 21/100\n",
      "4/4 [==============================] - 1s 248ms/step - loss: 0.2967 - accuracy: 0.8529 - val_loss: 0.2370 - val_accuracy: 0.8750\n",
      "Epoch 22/100\n",
      "4/4 [==============================] - 1s 255ms/step - loss: 0.2625 - accuracy: 0.9216 - val_loss: 0.3509 - val_accuracy: 0.8000\n",
      "Epoch 23/100\n",
      "4/4 [==============================] - 1s 250ms/step - loss: 0.2637 - accuracy: 0.8922 - val_loss: 0.2021 - val_accuracy: 0.9250\n",
      "Epoch 24/100\n",
      "4/4 [==============================] - 1s 277ms/step - loss: 0.2176 - accuracy: 0.9510 - val_loss: 0.1827 - val_accuracy: 0.9250\n",
      "Epoch 25/100\n",
      "4/4 [==============================] - 1s 252ms/step - loss: 0.1814 - accuracy: 0.9510 - val_loss: 0.2019 - val_accuracy: 0.9250\n",
      "Epoch 26/100\n",
      "4/4 [==============================] - 1s 255ms/step - loss: 0.1882 - accuracy: 0.9314 - val_loss: 0.1758 - val_accuracy: 0.9250\n",
      "Epoch 27/100\n",
      "4/4 [==============================] - 1s 256ms/step - loss: 0.1859 - accuracy: 0.9118 - val_loss: 0.1495 - val_accuracy: 0.9250\n",
      "Epoch 28/100\n",
      "4/4 [==============================] - 1s 269ms/step - loss: 0.2202 - accuracy: 0.9020 - val_loss: 0.1504 - val_accuracy: 0.9250\n",
      "Epoch 29/100\n",
      "4/4 [==============================] - 1s 310ms/step - loss: 0.2003 - accuracy: 0.9314 - val_loss: 0.1556 - val_accuracy: 0.9250\n",
      "Epoch 30/100\n",
      "4/4 [==============================] - 1s 258ms/step - loss: 0.1765 - accuracy: 0.9314 - val_loss: 0.2419 - val_accuracy: 0.9000\n",
      "Epoch 31/100\n",
      "4/4 [==============================] - 1s 280ms/step - loss: 0.1889 - accuracy: 0.9314 - val_loss: 0.0948 - val_accuracy: 0.9500\n",
      "Epoch 32/100\n",
      "4/4 [==============================] - 1s 249ms/step - loss: 0.1935 - accuracy: 0.9216 - val_loss: 0.1008 - val_accuracy: 0.9750\n",
      "Epoch 33/100\n",
      "4/4 [==============================] - 1s 263ms/step - loss: 0.1674 - accuracy: 0.9608 - val_loss: 0.0685 - val_accuracy: 1.0000\n",
      "Epoch 34/100\n",
      "4/4 [==============================] - 1s 252ms/step - loss: 0.1769 - accuracy: 0.9510 - val_loss: 0.0996 - val_accuracy: 0.9750\n",
      "Epoch 35/100\n",
      "4/4 [==============================] - 1s 332ms/step - loss: 0.1284 - accuracy: 0.9510 - val_loss: 0.0568 - val_accuracy: 1.0000\n",
      "Epoch 36/100\n",
      "4/4 [==============================] - 1s 336ms/step - loss: 0.1922 - accuracy: 0.9020 - val_loss: 0.0479 - val_accuracy: 1.0000\n",
      "Epoch 37/100\n",
      "4/4 [==============================] - 1s 266ms/step - loss: 0.1323 - accuracy: 0.9608 - val_loss: 0.0630 - val_accuracy: 0.9750\n",
      "Epoch 38/100\n",
      "4/4 [==============================] - 1s 321ms/step - loss: 0.1343 - accuracy: 0.9608 - val_loss: 0.0544 - val_accuracy: 1.0000\n",
      "Epoch 39/100\n",
      "4/4 [==============================] - 1s 311ms/step - loss: 0.1042 - accuracy: 0.9804 - val_loss: 0.0649 - val_accuracy: 1.0000\n",
      "Epoch 40/100\n",
      "4/4 [==============================] - 1s 259ms/step - loss: 0.1017 - accuracy: 0.9804 - val_loss: 0.0714 - val_accuracy: 0.9750\n",
      "Epoch 41/100\n",
      "4/4 [==============================] - 1s 299ms/step - loss: 0.1113 - accuracy: 0.9608 - val_loss: 0.0413 - val_accuracy: 1.0000\n",
      "Epoch 42/100\n",
      "4/4 [==============================] - 1s 266ms/step - loss: 0.0882 - accuracy: 0.9706 - val_loss: 0.0355 - val_accuracy: 1.0000\n",
      "Epoch 43/100\n",
      "4/4 [==============================] - 1s 344ms/step - loss: 0.0792 - accuracy: 0.9804 - val_loss: 0.0388 - val_accuracy: 1.0000\n",
      "Epoch 44/100\n",
      "4/4 [==============================] - 1s 257ms/step - loss: 0.0906 - accuracy: 0.9804 - val_loss: 0.0649 - val_accuracy: 1.0000\n",
      "Epoch 45/100\n",
      "4/4 [==============================] - 1s 250ms/step - loss: 0.1186 - accuracy: 0.9608 - val_loss: 0.0310 - val_accuracy: 1.0000\n",
      "Epoch 46/100\n",
      "4/4 [==============================] - 1s 244ms/step - loss: 0.1341 - accuracy: 0.9510 - val_loss: 0.0502 - val_accuracy: 0.9750\n",
      "Epoch 47/100\n",
      "4/4 [==============================] - 1s 251ms/step - loss: 0.0782 - accuracy: 0.9804 - val_loss: 0.0521 - val_accuracy: 1.0000\n",
      "Epoch 48/100\n",
      "4/4 [==============================] - 1s 252ms/step - loss: 0.1050 - accuracy: 0.9510 - val_loss: 0.0634 - val_accuracy: 0.9750\n",
      "Epoch 49/100\n",
      "4/4 [==============================] - 1s 252ms/step - loss: 0.1016 - accuracy: 0.9608 - val_loss: 0.0359 - val_accuracy: 1.0000\n",
      "Epoch 50/100\n",
      "4/4 [==============================] - 1s 246ms/step - loss: 0.0786 - accuracy: 0.9706 - val_loss: 0.0398 - val_accuracy: 1.0000\n",
      "Epoch 51/100\n",
      "4/4 [==============================] - 1s 252ms/step - loss: 0.0812 - accuracy: 0.9902 - val_loss: 0.0293 - val_accuracy: 1.0000\n",
      "Epoch 52/100\n",
      "4/4 [==============================] - 1s 312ms/step - loss: 0.0780 - accuracy: 0.9608 - val_loss: 0.0261 - val_accuracy: 1.0000\n",
      "Epoch 53/100\n",
      "4/4 [==============================] - 1s 261ms/step - loss: 0.0602 - accuracy: 0.9902 - val_loss: 0.0287 - val_accuracy: 1.0000\n",
      "Epoch 54/100\n",
      "4/4 [==============================] - 1s 273ms/step - loss: 0.0795 - accuracy: 0.9804 - val_loss: 0.0344 - val_accuracy: 1.0000\n",
      "Epoch 55/100\n",
      "4/4 [==============================] - 1s 285ms/step - loss: 0.0702 - accuracy: 0.9804 - val_loss: 0.0410 - val_accuracy: 1.0000\n",
      "Epoch 56/100\n",
      "4/4 [==============================] - 1s 246ms/step - loss: 0.0709 - accuracy: 0.9804 - val_loss: 0.0274 - val_accuracy: 1.0000\n",
      "Epoch 57/100\n",
      "4/4 [==============================] - 1s 265ms/step - loss: 0.0849 - accuracy: 0.9804 - val_loss: 0.0203 - val_accuracy: 1.0000\n",
      "Epoch 58/100\n",
      "4/4 [==============================] - 1s 247ms/step - loss: 0.0758 - accuracy: 0.9804 - val_loss: 0.0886 - val_accuracy: 1.0000\n"
     ]
    },
    {
     "name": "stdout",
     "output_type": "stream",
     "text": [
      "Epoch 59/100\n",
      "4/4 [==============================] - 1s 255ms/step - loss: 0.0925 - accuracy: 0.9902 - val_loss: 0.0282 - val_accuracy: 1.0000\n",
      "Epoch 60/100\n",
      "4/4 [==============================] - 1s 292ms/step - loss: 0.0420 - accuracy: 0.9902 - val_loss: 0.0254 - val_accuracy: 1.0000\n",
      "Epoch 61/100\n",
      "4/4 [==============================] - 1s 307ms/step - loss: 0.0631 - accuracy: 0.9902 - val_loss: 0.0209 - val_accuracy: 1.0000\n",
      "Epoch 62/100\n",
      "4/4 [==============================] - 1s 343ms/step - loss: 0.0421 - accuracy: 0.9902 - val_loss: 0.0850 - val_accuracy: 0.9750\n",
      "Epoch 63/100\n",
      "4/4 [==============================] - 1s 247ms/step - loss: 0.1114 - accuracy: 0.9412 - val_loss: 0.0274 - val_accuracy: 1.0000\n",
      "Epoch 64/100\n",
      "4/4 [==============================] - 1s 242ms/step - loss: 0.0919 - accuracy: 0.9706 - val_loss: 0.0307 - val_accuracy: 1.0000\n",
      "Epoch 65/100\n",
      "4/4 [==============================] - 1s 242ms/step - loss: 0.0766 - accuracy: 0.9902 - val_loss: 0.0689 - val_accuracy: 1.0000\n",
      "Epoch 66/100\n",
      "4/4 [==============================] - 1s 250ms/step - loss: 0.0614 - accuracy: 0.9902 - val_loss: 0.0179 - val_accuracy: 1.0000\n",
      "Epoch 67/100\n",
      "4/4 [==============================] - 1s 253ms/step - loss: 0.0391 - accuracy: 1.0000 - val_loss: 0.0369 - val_accuracy: 1.0000\n",
      "Epoch 68/100\n",
      "4/4 [==============================] - 1s 253ms/step - loss: 0.0541 - accuracy: 0.9902 - val_loss: 0.0245 - val_accuracy: 1.0000\n",
      "Epoch 69/100\n",
      "4/4 [==============================] - 1s 253ms/step - loss: 0.0350 - accuracy: 1.0000 - val_loss: 0.0293 - val_accuracy: 1.0000\n",
      "Epoch 70/100\n",
      "4/4 [==============================] - 1s 258ms/step - loss: 0.0445 - accuracy: 0.9902 - val_loss: 0.0268 - val_accuracy: 1.0000\n",
      "Epoch 71/100\n",
      "4/4 [==============================] - 1s 262ms/step - loss: 0.0432 - accuracy: 1.0000 - val_loss: 0.0438 - val_accuracy: 1.0000\n",
      "Epoch 72/100\n",
      "4/4 [==============================] - 1s 327ms/step - loss: 0.0638 - accuracy: 0.9804 - val_loss: 0.0240 - val_accuracy: 1.0000\n",
      "Epoch 73/100\n",
      "4/4 [==============================] - 1s 261ms/step - loss: 0.0271 - accuracy: 1.0000 - val_loss: 0.0279 - val_accuracy: 1.0000\n",
      "Epoch 74/100\n",
      "4/4 [==============================] - 1s 328ms/step - loss: 0.0319 - accuracy: 1.0000 - val_loss: 0.0145 - val_accuracy: 1.0000\n",
      "Epoch 75/100\n",
      "4/4 [==============================] - 1s 259ms/step - loss: 0.0580 - accuracy: 0.9804 - val_loss: 0.0515 - val_accuracy: 1.0000\n",
      "Epoch 76/100\n",
      "4/4 [==============================] - 1s 238ms/step - loss: 0.1118 - accuracy: 0.9608 - val_loss: 0.0254 - val_accuracy: 1.0000\n",
      "Epoch 77/100\n",
      "4/4 [==============================] - 1s 250ms/step - loss: 0.0828 - accuracy: 0.9608 - val_loss: 0.0942 - val_accuracy: 0.9750\n",
      "Epoch 78/100\n",
      "4/4 [==============================] - 1s 312ms/step - loss: 0.0621 - accuracy: 0.9902 - val_loss: 0.0595 - val_accuracy: 1.0000\n",
      "Epoch 79/100\n",
      "4/4 [==============================] - 1s 264ms/step - loss: 0.1055 - accuracy: 0.9314 - val_loss: 0.0366 - val_accuracy: 1.0000\n",
      "Epoch 80/100\n",
      "4/4 [==============================] - 1s 255ms/step - loss: 0.0496 - accuracy: 0.9902 - val_loss: 0.0344 - val_accuracy: 0.9750\n",
      "Epoch 81/100\n",
      "4/4 [==============================] - 1s 286ms/step - loss: 0.0904 - accuracy: 0.9510 - val_loss: 0.0133 - val_accuracy: 1.0000\n",
      "Epoch 82/100\n",
      "4/4 [==============================] - 1s 252ms/step - loss: 0.0613 - accuracy: 0.9902 - val_loss: 0.0741 - val_accuracy: 1.0000\n",
      "Epoch 83/100\n",
      "4/4 [==============================] - 1s 322ms/step - loss: 0.0745 - accuracy: 0.9804 - val_loss: 0.0061 - val_accuracy: 1.0000\n",
      "Epoch 84/100\n",
      "4/4 [==============================] - 1s 265ms/step - loss: 0.0366 - accuracy: 1.0000 - val_loss: 0.0074 - val_accuracy: 1.0000\n",
      "Epoch 85/100\n",
      "4/4 [==============================] - 1s 261ms/step - loss: 0.0399 - accuracy: 0.9902 - val_loss: 0.0074 - val_accuracy: 1.0000\n",
      "Epoch 86/100\n",
      "4/4 [==============================] - 1s 293ms/step - loss: 0.0157 - accuracy: 1.0000 - val_loss: 0.0569 - val_accuracy: 0.9750\n",
      "Epoch 87/100\n",
      "4/4 [==============================] - 1s 315ms/step - loss: 0.0597 - accuracy: 0.9706 - val_loss: 0.0090 - val_accuracy: 1.0000\n",
      "Epoch 88/100\n",
      "4/4 [==============================] - 1s 243ms/step - loss: 0.0328 - accuracy: 1.0000 - val_loss: 0.0052 - val_accuracy: 1.0000\n",
      "Epoch 89/100\n",
      "4/4 [==============================] - 1s 240ms/step - loss: 0.0384 - accuracy: 0.9804 - val_loss: 0.0032 - val_accuracy: 1.0000\n",
      "Epoch 90/100\n",
      "4/4 [==============================] - 1s 324ms/step - loss: 0.0352 - accuracy: 0.9902 - val_loss: 0.0194 - val_accuracy: 1.0000\n",
      "Epoch 91/100\n",
      "4/4 [==============================] - 1s 321ms/step - loss: 0.0494 - accuracy: 0.9804 - val_loss: 0.0030 - val_accuracy: 1.0000\n",
      "Epoch 92/100\n",
      "4/4 [==============================] - 1s 254ms/step - loss: 0.0364 - accuracy: 0.9902 - val_loss: 0.0053 - val_accuracy: 1.0000\n",
      "Epoch 93/100\n",
      "4/4 [==============================] - 1s 251ms/step - loss: 0.0131 - accuracy: 1.0000 - val_loss: 0.0043 - val_accuracy: 1.0000\n",
      "Epoch 94/100\n",
      "4/4 [==============================] - 1s 252ms/step - loss: 0.0125 - accuracy: 1.0000 - val_loss: 0.0092 - val_accuracy: 1.0000\n",
      "Epoch 95/100\n",
      "4/4 [==============================] - 1s 312ms/step - loss: 0.0320 - accuracy: 0.9902 - val_loss: 0.0053 - val_accuracy: 1.0000\n",
      "Epoch 96/100\n",
      "4/4 [==============================] - 1s 246ms/step - loss: 0.0184 - accuracy: 1.0000 - val_loss: 0.0049 - val_accuracy: 1.0000\n",
      "Epoch 97/100\n",
      "4/4 [==============================] - 1s 245ms/step - loss: 0.0180 - accuracy: 1.0000 - val_loss: 0.0037 - val_accuracy: 1.0000\n",
      "Epoch 98/100\n",
      "4/4 [==============================] - 1s 245ms/step - loss: 0.0449 - accuracy: 0.9706 - val_loss: 0.0180 - val_accuracy: 1.0000\n",
      "Epoch 99/100\n",
      "4/4 [==============================] - 1s 245ms/step - loss: 0.0592 - accuracy: 0.9902 - val_loss: 0.0053 - val_accuracy: 1.0000\n",
      "Epoch 100/100\n",
      "4/4 [==============================] - 1s 314ms/step - loss: 0.0685 - accuracy: 0.9608 - val_loss: 0.0670 - val_accuracy: 0.9750\n"
     ]
    },
    {
     "data": {
      "text/plain": [
       "<tensorflow.python.keras.callbacks.History at 0x2503af2ceb8>"
      ]
     },
     "execution_count": 14,
     "metadata": {},
     "output_type": "execute_result"
    }
   ],
   "source": [
    "lung.fit_generator(x_train,steps_per_epoch = 4, \n",
    "                    epochs = 100,validation_data = x_test, \n",
    "                    validation_steps = 2)"
   ]
  },
  {
   "cell_type": "code",
   "execution_count": 15,
   "metadata": {},
   "outputs": [
    {
     "name": "stdout",
     "output_type": "stream",
     "text": [
      "{'Cancer': 0, 'NonCancer': 1}\n"
     ]
    }
   ],
   "source": [
    "print(x_train.class_indices)"
   ]
  },
  {
   "cell_type": "code",
   "execution_count": 16,
   "metadata": {},
   "outputs": [],
   "source": [
    "lung.save(\"lung.h5\")"
   ]
  },
  {
   "cell_type": "code",
   "execution_count": null,
   "metadata": {},
   "outputs": [],
   "source": []
  }
 ],
 "metadata": {
  "kernelspec": {
   "display_name": "Python 3",
   "language": "python",
   "name": "python3"
  },
  "language_info": {
   "codemirror_mode": {
    "name": "ipython",
    "version": 3
   },
   "file_extension": ".py",
   "mimetype": "text/x-python",
   "name": "python",
   "nbconvert_exporter": "python",
   "pygments_lexer": "ipython3",
   "version": "3.7.3"
  }
 },
 "nbformat": 4,
 "nbformat_minor": 2
}
